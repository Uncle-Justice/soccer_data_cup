{
 "cells": [
  {
   "cell_type": "code",
   "execution_count": 2,
   "metadata": {
    "collapsed": false
   },
   "outputs": [
    {
     "ename": "ImportError",
     "evalue": "No module named 'plotly'",
     "output_type": "error",
     "traceback": [
      "\u001b[1;31m---------------------------------------------------------------------------\u001b[0m",
      "\u001b[1;31mImportError\u001b[0m                               Traceback (most recent call last)",
      "\u001b[1;32m<ipython-input-2-a00497bd9003>\u001b[0m in \u001b[0;36m<module>\u001b[1;34m()\u001b[0m\n\u001b[0;32m      2\u001b[0m \u001b[1;32mfrom\u001b[0m \u001b[0mcollections\u001b[0m \u001b[1;32mimport\u001b[0m \u001b[0mdefaultdict\u001b[0m\u001b[1;33m\u001b[0m\u001b[0m\n\u001b[0;32m      3\u001b[0m \u001b[1;32mimport\u001b[0m \u001b[0mpandas\u001b[0m \u001b[1;32mas\u001b[0m \u001b[0mpd\u001b[0m\u001b[1;33m\u001b[0m\u001b[0m\n\u001b[1;32m----> 4\u001b[1;33m \u001b[1;32mfrom\u001b[0m \u001b[0mplotly\u001b[0m\u001b[1;33m.\u001b[0m\u001b[0moffline\u001b[0m \u001b[1;32mimport\u001b[0m \u001b[0mdownload_plotlyjs\u001b[0m\u001b[1;33m,\u001b[0m \u001b[0minit_notebook_mode\u001b[0m\u001b[1;33m,\u001b[0m \u001b[0mplot\u001b[0m\u001b[1;33m,\u001b[0m \u001b[0miplot\u001b[0m\u001b[1;33m\u001b[0m\u001b[0m\n\u001b[0m\u001b[0;32m      5\u001b[0m \u001b[1;32mimport\u001b[0m \u001b[0mplotly\u001b[0m\u001b[1;33m.\u001b[0m\u001b[0mgraph_objs\u001b[0m \u001b[1;32mas\u001b[0m \u001b[0mgo\u001b[0m\u001b[1;33m\u001b[0m\u001b[0m\n\u001b[0;32m      6\u001b[0m \u001b[0minit_notebook_mode\u001b[0m\u001b[1;33m(\u001b[0m\u001b[0mconnected\u001b[0m\u001b[1;33m=\u001b[0m\u001b[1;32mTrue\u001b[0m\u001b[1;33m)\u001b[0m\u001b[1;33m\u001b[0m\u001b[0m\n",
      "\u001b[1;31mImportError\u001b[0m: No module named 'plotly'"
     ]
    }
   ],
   "source": [
    "import json\n",
    "from collections import defaultdict\n",
    "import pandas as pd\n",
    "from plotly.offline import download_plotlyjs, init_notebook_mode, plot, iplot\n",
    "import plotly.graph_objs as go\n",
    "init_notebook_mode(connected=True)"
   ]
  },
  {
   "cell_type": "markdown",
   "metadata": {},
   "source": [
    "## Loading a `match` document"
   ]
  },
  {
   "cell_type": "markdown",
   "metadata": {},
   "source": [
    "A match is a document consisting of the following fields:\n",
    "\n",
    "- **competitionId**: the identifier of the competition to which the match belongs to. It is a integer and refers to the field \"wyId\" of the competition document;\n",
    "- **date** and **dateutc**: the former specifies date and time when the match starts in explicit format (e.g., May 20, 2018 at 8:45:00 PM GMT+2), the latter contains the same information but in the compact format YYYY-MM-DD hh:mm:ss;\n",
    "- **duration**: the duration of the match. It can be \"Regular\" (matches of regular duration of 90 minutes + stoppage time), \"ExtraTime\" (matches with supplementary times, as it may happen for matches in continental or international competitions), or \"Penalities\" (matches which end at penalty kicks, as it may happen for continental or international competitions);\n",
    "- **gameweek**: the week of the league, starting from the beginning of the league;\n",
    "- **label**: contains the name of the two clubs and the result of the match (e.g., \"Lazio - Internazionale, 2 - 3\");\n",
    "- **roundID**: indicates the match-day of the competition to which the match belongs to. During a competition for soccer clubs, each of the participating clubs plays against each of the other clubs twice, once at home and once away. The matches are organized in match-days: all the matches in match-day i are played before the matches in match-day i + 1, even tough some matches can be anticipated or postponed to facilitate players and clubs participating in Continental or Intercontinental competitions. During a competition for national teams, the \"roundID\" indicates the stage of the competition (eliminatory round, round of 16, quarter finals, semifinals, final);\n",
    "- **seasonId**: indicates the season of the match;\n",
    "- **status**: it can be \"Played\" (the match has officially finished), \"Cancelled\" (the match has been canceled for some reason), \"Postponed\" (the match has been postponed and no new date and time is available yet) or \"Suspended\" (the match has been suspended and no new date and time is available yet);\n",
    "- **venue**: the stadium where the match was held (e.g., \"Stadio Olimpico\");\n",
    "- **winner**: the identifier of the team which won the game, or 0 if the match ended with a draw;\n",
    "- **wyId**: the identifier of the match, assigned by Wyscout;\n",
    "- **teamsData**: it contains several subfields describing information about each team that is playing that match: such as lineup, bench composition, list of substitutions, coach and scores:\n",
    "- **hasFormation**: it has value 0 if no formation (lineups and benches) is present, and 1 otherwise;\n",
    "- **score**: the number of goals scored by the team during the match (not counting penalties);\n",
    "- **scoreET**: the number of goals scored by the team during the match, including the extra time (not counting penalties);\n",
    "- **scoreHT**: the number of goals scored by the team during the first half of the match;\n",
    "- **scoreP**: the total number of goals scored by the team after the penalties;\n",
    "- **side**: the team side in the match (it can be \"home\" or \"away\");\n",
    "- **teamId**: the identifier of the team;\n",
    "- **coachId**: the identifier of the team's coach;\n",
    "- **bench**: the list of the team's players that started the match in the bench and some basic statistics about their performance during the match (goals, own goals, cards);\n",
    "- **lineup**: the list of the team's players in the starting lineup and some basic statistics about their performance during the match (goals, own goals, cards);\n",
    "- **substitutions**: the list of team's substitutions during the match, describing the players involved and the minute of the substitution."
   ]
  },
  {
   "cell_type": "code",
   "execution_count": null,
   "metadata": {
    "collapsed": true
   },
   "outputs": [],
   "source": [
    "matches = json.load(open('matches_Italy.json'))"
   ]
  },
  {
   "cell_type": "code",
   "execution_count": null,
   "metadata": {
    "collapsed": false,
    "scrolled": true
   },
   "outputs": [],
   "source": [
    "a_match = matches[0]\n",
    "match_id = a_match['wyId']\n",
    "print(match_id)\n",
    "a_match"
   ]
  },
  {
   "cell_type": "markdown",
   "metadata": {},
   "source": [
    "## Loading an `event` document"
   ]
  },
  {
   "cell_type": "markdown",
   "metadata": {},
   "source": [
    "An event refers to a ball touch and contains the following information:\n",
    "\n",
    "- **eventId**: the identifier of the event's type. Each eventId is associated with an event name (see next point);\n",
    "- **eventName**: tteamIdhe name of the event's type. There are seven types of events: pass, foul, shot, duel, free kick, offside and touch;\n",
    "- **subEventId**: the identifier of the subevent's type. Each subEventId is associated with a subevent name (see next point);\n",
    "- **subEventName**: the name of the subevent's type. Each event type is associated with a different set of subevent types;\n",
    "- **tags**: a list of event tags, each one describes additional information about the event (e.g., accurate). Each event type is associated with a different set of tags;\n",
    "- **eventSec**: the time when the event occurs (in seconds since the beginning of the current half of the match);\n",
    "- **id**: a unique identifier of the event;\n",
    "- **matchId**: the identifier of the match the event refers to. The identifier refers to the field \"wyId\" in the match dataset;\n",
    "- **matchPeriod**: the period of the match. It can be \"1H\" (first half of the match), \"2H\" (second half of the match), \"E1\" (first extra time), \"E2\" (second extra time) or \"P\" (penalties time);\n",
    "- **playerId**: the identifier of the player who generated the event. The identifier refers to the field \"wyId\" in a player dataset;\n",
    "- **positions**: the origin and destination positions associated with the event. Each position is a pair of coordinates (x, y). The x and y coordinates are always in the range [0, 100] and indicate the percentage of the field from the perspective of the attacking team. In particular, the value of the x coordinate indicates the event's nearness (in percentage) to the opponent's goal, while the value of the y coordinates indicates the event's nearness (in percentage) to the right side of the field;\n",
    "- **teamId**: the identifier of the player's team. The identifier refers to the field \"wyId\" in the team dataset."
   ]
  },
  {
   "cell_type": "code",
   "execution_count": null,
   "metadata": {
    "collapsed": false
   },
   "outputs": [],
   "source": [
    "all_events = json.load(open('events_Italy.json'))\n",
    "len(all_events)"
   ]
  },
  {
   "cell_type": "code",
   "execution_count": null,
   "metadata": {
    "collapsed": false
   },
   "outputs": [],
   "source": [
    "an_event = all_events[0]\n",
    "an_event"
   ]
  },
  {
   "cell_type": "markdown",
   "metadata": {},
   "source": [
    "### Load all the events of a specific match"
   ]
  },
  {
   "cell_type": "code",
   "execution_count": null,
   "metadata": {
    "collapsed": false
   },
   "outputs": [],
   "source": [
    "a_match_events = [event for event in all_events if event['matchId'] == match_id]\n",
    "len(a_match_events)"
   ]
  },
  {
   "cell_type": "markdown",
   "metadata": {},
   "source": [
    "## Visualize the match events"
   ]
  },
  {
   "cell_type": "code",
   "execution_count": null,
   "metadata": {
    "collapsed": true
   },
   "outputs": [],
   "source": [
    "pitch_layout = dict(hovermode='closest', autosize=False,\n",
    "                                    width=825,\n",
    "                                    height=600,\n",
    "                                    plot_bgcolor='rgb(59,205,55)',\n",
    "                                    xaxis={\n",
    "                                        'range': [0, 100],\n",
    "                                        'showgrid': False,\n",
    "                                        'showticklabels': True,\n",
    "                                    },\n",
    "                                    yaxis={\n",
    "                                        'range': [0, 100],\n",
    "                                        'showgrid': False,\n",
    "                                        'showticklabels': True,\n",
    "                                    },\n",
    "                                    shapes=[\n",
    "                                        {\n",
    "                                            'type': 'circle',\n",
    "                                            'xref': 'x',\n",
    "                                            'yref': 'y',\n",
    "                                            'y0': 35,\n",
    "                                            'x0': 40,\n",
    "                                            'y1': 65,\n",
    "                                            'x1': 60,\n",
    "                                            'line': {\n",
    "                                                'color': 'white',\n",
    "                                            },\n",
    "                                            \n",
    "                                        },\n",
    "                                     {\n",
    "                                            'type': 'line',\n",
    "                                            'xref': 'x',\n",
    "                                            'yref': 'y',\n",
    "                                            'y0': 35,\n",
    "                                            'x0': 0,\n",
    "                                            'y1': 35,\n",
    "                                            'x1': 10,                                         \n",
    "                                            'line': {\n",
    "                                                'color': 'white',\n",
    "                                            },\n",
    "                                            \n",
    "                                        },\n",
    "                                     {\n",
    "                                            'type': 'line',\n",
    "                                            'xref': 'x',\n",
    "                                            'yref': 'y',\n",
    "                                            'y0': 35,\n",
    "                                            'x0': 10,\n",
    "                                            'y1': 65,\n",
    "                                            'x1': 10,\n",
    "                                            'line': {\n",
    "                                                'color': 'white',\n",
    "                                            }\n",
    "                                     },\n",
    "                                    {\n",
    "                                        'type': 'line',\n",
    "                                        'xref': 'x',\n",
    "                                        'yref': 'y',\n",
    "                                        'y0': 65,\n",
    "                                        'x0': 10,\n",
    "                                        'y1': 65,\n",
    "                                        'x1': 0,\n",
    "                                        'line': {\n",
    "                                            'color': 'white',\n",
    "                                        }\n",
    "                                      },\n",
    "                                    {\n",
    "                                            'type': 'line',\n",
    "                                            'xref': 'x',\n",
    "                                            'yref': 'y',\n",
    "                                            'y0': 35,\n",
    "                                            'x0': 100,\n",
    "                                            'y1': 35,\n",
    "                                            'x1': 90,                                         \n",
    "                                            'line': {\n",
    "                                                'color': 'white',\n",
    "                                            },\n",
    "                                            \n",
    "                                        },\n",
    "                                     {\n",
    "                                            'type': 'line',\n",
    "                                            'xref': 'x',\n",
    "                                            'yref': 'y',\n",
    "                                            'y0': 35,\n",
    "                                            'x0': 90,\n",
    "                                            'y1': 65,\n",
    "                                            'x1': 90,\n",
    "                                            'line': {\n",
    "                                                'color': 'white',\n",
    "                                            }\n",
    "                                     },\n",
    "                                    {\n",
    "                                        'type': 'line',\n",
    "                                        'xref': 'x',\n",
    "                                        'yref': 'y',\n",
    "                                        'y0': 65,\n",
    "                                        'x0': 90,\n",
    "                                        'y1': 65,\n",
    "                                        'x1': 100,\n",
    "                                        'line': {\n",
    "                                            'color': 'white',\n",
    "                                        }\n",
    "                                      },    \n",
    "                                    {\n",
    "                                        'type': 'line',\n",
    "                                        'xref': 'x',\n",
    "                                        'yref': 'y',\n",
    "                                        'y0': 100,\n",
    "                                        'x0': 50,\n",
    "                                        'y1': 0,\n",
    "                                        'x1': 50,\n",
    "                                        'line': {\n",
    "                                            'color': 'white',\n",
    "                                        }\n",
    "                                      }, \n",
    "                                    ]\n",
    ")"
   ]
  },
  {
   "cell_type": "code",
   "execution_count": null,
   "metadata": {
    "collapsed": true,
    "scrolled": false
   },
   "outputs": [],
   "source": [
    "def visualize_events(a_match, a_match_events):\n",
    "    \"\"\"\n",
    "    Visualize all the events of a match on the soccer pitch.\n",
    "    \n",
    "    Parameters\n",
    "    ----------\n",
    "    a_match: dict\n",
    "        a dictionary containing the information of the match\n",
    "        \n",
    "    a_match_events: list\n",
    "        a list of event dictionaries\n",
    "    \"\"\"\n",
    "    team1, team2 = a_match['teamsData'].keys()\n",
    "\n",
    "    # Create and style traces\n",
    "    trace1 = go.Scatter(\n",
    "        x = [event['positions'][0]['x'] for event in a_match_events if str(event['teamId']) == team1],\n",
    "        y = [event['positions'][0]['y'] for event in a_match_events if str(event['teamId']) == team1],\n",
    "        text = ['%s by player %s' %(event['eventName'], event['playerId']) for event in a_match_events if str(event['teamId']) == team1],\n",
    "        mode = 'markers',\n",
    "        name = team1,\n",
    "        marker = dict(\n",
    "            size = 5,\n",
    "            color = 'red',\n",
    "        )\n",
    "    )\n",
    "\n",
    "    trace2 = go.Scatter(\n",
    "        x = [event['positions'][0]['x'] for event in a_match_events if str(event['teamId']) == team2],\n",
    "        y = [event['positions'][0]['y'] for event in a_match_events if str(event['teamId']) == team2],\n",
    "        text = ['%s by player %s' %(event['eventName'], event['playerId']) for event in a_match_events if str(event['teamId']) == team2],\n",
    "        mode = 'markers',\n",
    "        name = team2,\n",
    "        marker = dict(\n",
    "            size = 5,\n",
    "            color = 'blue',\n",
    "            symbol='square'\n",
    "        )\n",
    "    )\n",
    "\n",
    "    fig = dict(data=[trace1, trace2], layout=pitch_layout)\n",
    "    iplot(fig)"
   ]
  },
  {
   "cell_type": "code",
   "execution_count": null,
   "metadata": {
    "collapsed": false
   },
   "outputs": [],
   "source": [
    "visualize_events(a_match, a_match_events)"
   ]
  },
  {
   "cell_type": "code",
   "execution_count": null,
   "metadata": {
    "collapsed": true
   },
   "outputs": [],
   "source": [
    "def n_passes(a_match_events):\n",
    "    \"\"\"\n",
    "    Compute the number of passes per player\n",
    "    \n",
    "    Parameters\n",
    "    ----------\n",
    "    a_match_events: list\n",
    "        a list of event dictionaries\n",
    "        \n",
    "    Returns\n",
    "    -------\n",
    "    pandas DataFrame\n",
    "    \"\"\"\n",
    "    player2n_passes = defaultdict(int)\n",
    "    for event in a_match_events:\n",
    "        player_id = event['playerId']\n",
    "        event_type = event['eventName']\n",
    "        if event_type == 'Pass':\n",
    "            player2n_passes['id_%s' %player_id] += 1\n",
    "    df = pd.DataFrame.from_dict(player2n_passes, orient='index').reset_index()\n",
    "    df.columns = ['player_id', 'n_passes']\n",
    "    df.player_id = df.player_id.astype(str)\n",
    "    return df\n",
    "\n",
    "def n_shots(a_match_events):\n",
    "    \"\"\"\n",
    "    Compute the number of shots per player\n",
    "    \n",
    "    Parameters\n",
    "    ----------\n",
    "    a_match_events: list\n",
    "        a list of event dictionaries\n",
    "        \n",
    "    Returns\n",
    "    -------\n",
    "    pandas DataFrame\n",
    "    \"\"\"\n",
    "    player2n_shots = defaultdict(int)\n",
    "    for event in a_match_events:\n",
    "        player_id = event['playerId']\n",
    "        event_type = event['eventName']\n",
    "        if event_type == 'Shot':\n",
    "            player2n_shots['id_%s' %player_id] += 1\n",
    "    df = pd.DataFrame.from_dict(player2n_shots, orient='index').reset_index()\n",
    "    df.columns = ['player_id', 'n_shots']\n",
    "    df.player_id = df.player_id.astype(str)\n",
    "    return df\n",
    "\n",
    "def pass_accuracy(a_match_events):\n",
    "    \"\"\"\n",
    "    Compute the pass accuracy of each player\n",
    "    \n",
    "    Parameters\n",
    "    ----------\n",
    "    a_match_events: list\n",
    "        a list of event dictionaries\n",
    "        \n",
    "    Returns\n",
    "    -------\n",
    "    pandas DataFrame\n",
    "    \"\"\"\n",
    "    player2n_passes = defaultdict(int)\n",
    "    player2n_acc_passes = defaultdict(int)\n",
    "    \n",
    "    for event in a_match_events:\n",
    "        player_id = event['playerId']\n",
    "        event_type = event['eventName']\n",
    "        tags = [tag['id'] for tag in event['tags']]\n",
    "        if event_type == 'Pass':\n",
    "            player2n_passes['id_%s' %player_id] += 1\n",
    "            if 1801 in tags:\n",
    "                player2n_acc_passes['id_%s' %player_id] += 1\n",
    "    \n",
    "    player2pass_accuracy = defaultdict(float)\n",
    "    for player, passes in player2n_passes.items():\n",
    "        player2pass_accuracy[player] = player2n_acc_passes[player] / passes\n",
    "        \n",
    "    df = pd.DataFrame.from_dict(player2pass_accuracy, orient='index').reset_index()\n",
    "    df.columns = ['player_id', 'pass_accuracy']\n",
    "    df.player_id = df.player_id.astype(str)\n",
    "    return df\n",
    "        \n",
    "def shot_accuracy(a_match_events):\n",
    "    \"\"\"\n",
    "    Compute the shot accuracy of each player\n",
    "    \n",
    "    Parameters\n",
    "    ----------\n",
    "    a_match_events: list\n",
    "        a list of event dictionaries\n",
    "        \n",
    "    Returns\n",
    "    -------\n",
    "    pandas DataFrame\n",
    "    \"\"\"\n",
    "    player2n_shots = defaultdict(int)\n",
    "    player2n_acc_shots = defaultdict(int)\n",
    "    \n",
    "    for event in a_match_events:\n",
    "        player_id = event['playerId']\n",
    "        event_type = event['eventName']\n",
    "        tags = [tag['id'] for tag in event['tags']]\n",
    "        if event_type == 'Shot':\n",
    "            player2n_shots['id_%s' %player_id] += 1\n",
    "            if 1801 in tags:\n",
    "                player2n_acc_shots['id_%s' %player_id] += 1\n",
    "    \n",
    "    player2shot_accuracy = defaultdict(float)\n",
    "    for player, shots in player2n_shots.items():\n",
    "        player2shot_accuracy[player] = player2n_acc_shots[player] / shots\n",
    "        \n",
    "    df = pd.DataFrame.from_dict(player2shot_accuracy, orient='index').reset_index()\n",
    "    df.columns = ['player_id', 'shot_accuracy']\n",
    "    df.player_id = df.player_id.astype(str)\n",
    "    return df\n",
    "    \n",
    "def visualize_barchart(df, kind='n_passes'):\n",
    "    \"\"\"\n",
    "    Visualize a quantity through a bar chart\n",
    "    \n",
    "    Parameters\n",
    "    ----------\n",
    "    df: pandas DataFrame\n",
    "        a DataFrame containing the information to visualize\n",
    "        \n",
    "    kind: str\n",
    "        the name of the column in the DataFrame that must be visualized\n",
    "    \"\"\"\n",
    "    data = [go.Bar(\n",
    "            x=df.player_id,\n",
    "            y=df[kind]\n",
    "    )]\n",
    "\n",
    "    layout = go.Layout(\n",
    "        xaxis=dict(\n",
    "            autorange=True,\n",
    "            showgrid=False,\n",
    "            zeroline=True,\n",
    "            showline=True,\n",
    "            showticklabels=True,\n",
    "            title='players'\n",
    "        ),\n",
    "        yaxis=dict(\n",
    "            autorange=True,\n",
    "            showgrid=False,\n",
    "            zeroline=True,\n",
    "            showline=True,\n",
    "            showticklabels=True,\n",
    "            title=kind\n",
    "        )\n",
    "    )\n",
    "\n",
    "    fig = dict(data=data, layout=layout)\n",
    "    iplot(fig)"
   ]
  },
  {
   "cell_type": "markdown",
   "metadata": {},
   "source": [
    "## Number of passes per player"
   ]
  },
  {
   "cell_type": "code",
   "execution_count": null,
   "metadata": {
    "collapsed": false,
    "scrolled": false
   },
   "outputs": [],
   "source": [
    "df_passes = n_passes(a_match_events)\n",
    "visualize_barchart(df_passes, kind='n_passes')"
   ]
  },
  {
   "cell_type": "markdown",
   "metadata": {},
   "source": [
    "## Number of shots per player"
   ]
  },
  {
   "cell_type": "code",
   "execution_count": null,
   "metadata": {
    "collapsed": false
   },
   "outputs": [],
   "source": [
    "df_shots = n_shots(a_match_events)\n",
    "visualize_barchart(df_shots, kind='n_shots')"
   ]
  },
  {
   "cell_type": "markdown",
   "metadata": {},
   "source": [
    "## Pass accuracy of each player"
   ]
  },
  {
   "cell_type": "code",
   "execution_count": null,
   "metadata": {
    "collapsed": false
   },
   "outputs": [],
   "source": [
    "df_pa = pass_accuracy(a_match_events)\n",
    "visualize_barchart(df_pa, 'pass_accuracy')"
   ]
  },
  {
   "cell_type": "markdown",
   "metadata": {},
   "source": [
    "## Shot accuracy of each player"
   ]
  },
  {
   "cell_type": "code",
   "execution_count": null,
   "metadata": {
    "collapsed": false
   },
   "outputs": [],
   "source": [
    "df_sa = shot_accuracy(a_match_events)\n",
    "visualize_barchart(df_sa, 'shot_accuracy')"
   ]
  },
  {
   "cell_type": "code",
   "execution_count": null,
   "metadata": {
    "collapsed": true
   },
   "outputs": [],
   "source": []
  }
 ],
 "metadata": {
  "anaconda-cloud": {},
  "hide_input": false,
  "kernelspec": {
   "display_name": "Python [conda env:python 3]",
   "language": "python",
   "name": "conda-env-python 3-py"
  },
  "language_info": {
   "codemirror_mode": {
    "name": "ipython",
    "version": 3
   },
   "file_extension": ".py",
   "mimetype": "text/x-python",
   "name": "python",
   "nbconvert_exporter": "python",
   "pygments_lexer": "ipython3",
   "version": "3.5.4"
  },
  "latex_envs": {
   "LaTeX_envs_menu_present": true,
   "autoclose": false,
   "autocomplete": true,
   "bibliofile": "biblio.bib",
   "cite_by": "apalike",
   "current_citInitial": 1,
   "eqLabelWithNumbers": true,
   "eqNumInitial": 1,
   "hotkeys": {
    "equation": "Ctrl-E",
    "itemize": "Ctrl-I"
   },
   "labels_anchors": false,
   "latex_user_defs": false,
   "report_style_numbering": true,
   "user_envs_cfg": false
  }
 },
 "nbformat": 4,
 "nbformat_minor": 2
}
